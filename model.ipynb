{
 "cells": [
  {
   "cell_type": "code",
   "execution_count": null,
   "metadata": {},
   "outputs": [],
   "source": [
    "import pandas as pd\n",
    "import numpy as np\n",
    "import seaborn as sns\n",
    "import matplotlib.pyplot as plt\n"
   ]
  },
  {
   "cell_type": "markdown",
   "metadata": {},
   "source": [
    "<h1>EXTRAPOLATORY DATA ANALYSIS & DATA CLEANING</h1>"
   ]
  },
  {
   "cell_type": "code",
   "execution_count": null,
   "metadata": {},
   "outputs": [],
   "source": [
    "# .read_csv converts the document to an array\n",
    "df=pd.read_csv('./dataset/penguins_lter.csv')\n",
    "\n",
    "#removing unnecessary columns in dataframe which are not used in penguin classification\n",
    "df=df.drop('Comments',axis=1)\n",
    "df=df.drop('Region',axis=1)\n",
    "df=df.drop('Sample Number',axis=1)\n",
    "df=df.drop('studyName',axis=1)\n",
    "df=df.drop('Stage',axis=1)\n",
    "df=df.drop('Individual ID',axis=1)\n",
    "df=df.drop('Delta 15 N (o/oo)',axis=1)\n",
    "df=df.drop('Clutch Completion',axis=1)\n",
    "df=df.drop('Date Egg',axis=1)\n",
    "df=df.drop('Delta 13 C (o/oo)',axis=1)\n",
    "\n",
    "\n",
    "print(np.shape(df))\n",
    "df"
   ]
  },
  {
   "cell_type": "markdown",
   "metadata": {},
   "source": [
    "<h1>get information about data</h1>"
   ]
  },
  {
   "cell_type": "code",
   "execution_count": null,
   "metadata": {},
   "outputs": [],
   "source": [
    "\n",
    "\n",
    "# we can get a specific column using pandas\n",
    "\n",
    "# There is no problem in our dataset (no empty columns)\n",
    "# Now our task is to split data\n",
    "df.info()"
   ]
  },
  {
   "cell_type": "code",
   "execution_count": null,
   "metadata": {},
   "outputs": [],
   "source": [
    "#get description of data\n",
    "df.describe(include='all')"
   ]
  },
  {
   "cell_type": "code",
   "execution_count": null,
   "metadata": {},
   "outputs": [],
   "source": [
    "df.info()"
   ]
  },
  {
   "cell_type": "markdown",
   "metadata": {},
   "source": [
    "<h1>After getting information about the dataframe we check NaN values in DataFrame using</h1>\n",
    "- DataFrame.isna().sum()"
   ]
  },
  {
   "cell_type": "code",
   "execution_count": null,
   "metadata": {},
   "outputs": [],
   "source": [
    "df.isna().sum()"
   ]
  },
  {
   "cell_type": "code",
   "execution_count": null,
   "metadata": {},
   "outputs": [],
   "source": [
    "#removing rows containing NaN \n",
    "df=df.dropna()\n",
    "df"
   ]
  },
  {
   "cell_type": "code",
   "execution_count": null,
   "metadata": {},
   "outputs": [],
   "source": [
    "df['Sex'].unique()"
   ]
  },
  {
   "cell_type": "code",
   "execution_count": null,
   "metadata": {},
   "outputs": [],
   "source": [
    "#get unique values in every column of dataframe\n",
    "for i in df:\n",
    "    print(df[i].unique())\n",
    "# Filter the dataframe where value of sex is not .\n",
    "df=df[df['Sex']!='.']\n",
    "# df    "
   ]
  },
  {
   "cell_type": "code",
   "execution_count": null,
   "metadata": {},
   "outputs": [],
   "source": []
  },
  {
   "cell_type": "markdown",
   "metadata": {},
   "source": [
    "<h1>FILTERING OF DATA IS DONE</h1> \n",
    "- NOW WE VIEW GRAPHICAL REPRESENTATION OF DATA"
   ]
  },
  {
   "cell_type": "code",
   "execution_count": null,
   "metadata": {},
   "outputs": [],
   "source": [
    "ax=sns.countplot(x='Species',data=df)\n",
    "ax.bar_label(ax.containers[0])"
   ]
  },
  {
   "cell_type": "code",
   "execution_count": null,
   "metadata": {},
   "outputs": [],
   "source": [
    "ax=sns.countplot(x='Island',data=df)\n",
    "ax.bar_label(ax.containers[0])"
   ]
  },
  {
   "cell_type": "code",
   "execution_count": null,
   "metadata": {},
   "outputs": [],
   "source": [
    "# Get a heat map with annotations\n",
    "print(  df.corr(numeric_only=True))\n",
    "sns.heatmap(df.corr(numeric_only=True),annot=True,cmap='RdBu')\n",
    "# CONSIDER A FEATURE IN HEATMAP WHICH IS HIGHLY CORRELATED"
   ]
  },
  {
   "cell_type": "markdown",
   "metadata": {},
   "source": [
    "<h1>We're done with the analysis of data</h1>\n",
    "- Now we split data for training and testing for it we use sklearn\n",
    "\n",
    "<u><strong>Note:</strong></u>\n",
    "<h3>If your output (y) is a string and u don't encode the string, you'll face the following error</h3>\n",
    "<img src=\"./screenshots/ValueError.jpg\"/>"
   ]
  },
  {
   "cell_type": "code",
   "execution_count": null,
   "metadata": {},
   "outputs": [],
   "source": []
  },
  {
   "cell_type": "code",
   "execution_count": null,
   "metadata": {},
   "outputs": [],
   "source": [
    "from sklearn.model_selection import train_test_split\n",
    "train,test=train_test_split(df,test_size=0.20)\n",
    "\n",
    "train_x=train[['Island','Culmen Length (mm)','Culmen Depth (mm)','Flipper Length (mm)','Body Mass (g)','Sex']]\n",
    "train_y=train[['Species']]\n",
    "\n",
    "test_x=test[['Island','Culmen Length (mm)','Culmen Depth (mm)','Flipper Length (mm)','Body Mass (g)','Sex']]\n",
    "test_y=test[['Species']]\n",
    "\n"
   ]
  },
  {
   "cell_type": "markdown",
   "metadata": {},
   "source": [
    "<h1>PICKING UP A MODEL WHICH CAN CLASSIFY THE PENGUIN</h1>\n",
    "    <ul>\n",
    "        <li>So the given problem is a classification problem</li>\n",
    "        <li>Im going to use Random Forest Classifier because in this problem we classify which type of penguin it is.</li>\n",
    "    </ul>"
   ]
  },
  {
   "cell_type": "code",
   "execution_count": null,
   "metadata": {},
   "outputs": [],
   "source": [
    "from sklearn.ensemble import RandomForestClassifier\n",
    "# from sklearn.tree import DecisionTreeClassifier\n",
    "#encoding string into numbers jkj\n",
    "from sklearn.preprocessing import OneHotEncoder\n",
    "\n",
    "encoder=OneHotEncoder()\n",
    "test_y_encoded=encoder.fit(test_y)\n",
    "\n",
    "rfc=RandomForestClassifier()\n",
    "rfc.fit(test_x,test_y_encoded)"
   ]
  },
  {
   "cell_type": "markdown",
   "metadata": {},
   "source": []
  }
 ],
 "metadata": {
  "kernelspec": {
   "display_name": "base",
   "language": "python",
   "name": "python3"
  },
  "language_info": {
   "codemirror_mode": {
    "name": "ipython",
    "version": 3
   },
   "file_extension": ".py",
   "mimetype": "text/x-python",
   "name": "python",
   "nbconvert_exporter": "python",
   "pygments_lexer": "ipython3",
   "version": "3.12.0"
  }
 },
 "nbformat": 4,
 "nbformat_minor": 2
}
